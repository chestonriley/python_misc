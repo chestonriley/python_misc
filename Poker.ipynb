{
 "cells": [
  {
   "cell_type": "code",
   "execution_count": 1,
   "metadata": {},
   "outputs": [],
   "source": [
    "#First, do imports and list set ups that will be used\n",
    "\n",
    "import random\n",
    "from collections import defaultdict\n",
    "\n",
    "deck_cards = [\"2\",\"3\",\"4\",\"5\",\"6\",\"7\",\"8\",\"9\",\"10\",\"J\",\"Q\",\"K\",\"A\"]\n",
    "deck_cards_straight_check = [\"A\",\"2\",\"3\",\"4\",\"5\",\"6\",\"7\",\"8\",\"9\",\"10\",\"J\",\"Q\",\"K\"]\n",
    "deck_suites = [\"h\",\"s\",\"d\",\"c\"]"
   ]
  },
  {
   "cell_type": "code",
   "execution_count": 2,
   "metadata": {},
   "outputs": [],
   "source": [
    "def hand(card_deck_numbers,card_deck_suites):\n",
    "    hd = []\n",
    "    while len(hd) < 5:\n",
    "        c = random.choice(card_deck_numbers) + \"|\" + random.choice(card_deck_suites)\n",
    "        if c not in hd:\n",
    "            hd.append(c)\n",
    "    return hd"
   ]
  },
  {
   "cell_type": "code",
   "execution_count": 3,
   "metadata": {},
   "outputs": [],
   "source": [
    "def build_hand_count_check(hand):\n",
    "    check = {}\n",
    "    for i in hand:\n",
    "        if i.split('|')[0] not in check:\n",
    "            check[str(i.split('|')[0])] = 0\n",
    "    \n",
    "    for z in check.keys():\n",
    "        count = 0\n",
    "        for i in hand:\n",
    "            if z == str(i.split('|')[0]):\n",
    "                count += 1\n",
    "        check[z] = count\n",
    "        \n",
    "    return check"
   ]
  },
  {
   "cell_type": "code",
   "execution_count": 4,
   "metadata": {},
   "outputs": [],
   "source": [
    "def check_royalflush(hand):\n",
    "    # Build the lists\n",
    "    cards_in_hand = []\n",
    "    suits_in_hand = []\n",
    "    for i in hand:\n",
    "        cards_in_hand.append(i.split('|')[0])\n",
    "        if i.split('|')[1] not in suits_in_hand:\n",
    "            suits_in_hand.append(i.split('|')[1])\n",
    "    # Check the results\n",
    "    #print(cards_in_hand)\n",
    "    #print(suits_in_hand)\n",
    "    if len(suits_in_hand) > 1:\n",
    "        return False\n",
    "    if all(x in cards_in_hand for x in [\"A\",\"K\",\"Q\",\"J\",\"10\"]):\n",
    "        return True\n",
    "    else: return False\n",
    "    \n",
    "def check_straight(hand):\n",
    "    hand_cards = []\n",
    "    for x in hand:\n",
    "        hand_cards.append(x.split('|')[0])\n",
    "    hand_cards.sort()\n",
    "    for i in range(0,9):\n",
    "        straight_check_list = deck_cards_straight_check[i:i+5]\n",
    "        straight_check_list.sort()\n",
    "        if hand_cards == straight_check_list:\n",
    "            return True\n",
    "    return False\n",
    "\n",
    "def check_flush(hand):\n",
    "    suits_in_hand = []\n",
    "    for i in hand:\n",
    "        if i.split('|')[1] not in suits_in_hand:\n",
    "            suits_in_hand.append(i.split('|')[1])\n",
    "    if len(suits_in_hand) == 1:\n",
    "        return True\n",
    "    else: return False\n",
    "    \n",
    "def check_4ofakind(count_of_cards_hand_dict):\n",
    "    #Accepts the argument that is the dictionary of call cards counted already in the hand\n",
    "    #check = build_hand_count_check(count_of_cards_hand)\n",
    "    check = count_of_cards_hand_dict\n",
    "    if 4 in check.values():\n",
    "        return True\n",
    "    else: return False\n",
    "    \n",
    "def check_3ofakind(count_of_cards_hand_dict):\n",
    "    #Accepts the argument that is the dictionary of call cards counted already in the hand\n",
    "    #check = build_hand_count_check(count_of_cards_hand)\n",
    "    check = count_of_cards_hand_dict\n",
    "    if 3 in check.values():\n",
    "        return True\n",
    "    else: return False\n",
    "    \n",
    "def check_2ofakind(count_of_cards_hand_dict):\n",
    "    #Accepts the argument that is the dictionary of call cards counted already in the hand\n",
    "    #check = build_hand_count_check(count_of_cards_hand)\n",
    "    check = count_of_cards_hand_dict\n",
    "    if 2 in check.values():\n",
    "        return True\n",
    "    else: return False\n",
    "    \n",
    "def check_2pair(count_of_cards_hand_dict):\n",
    "    #Accepts the argument that is the dictionary of call cards counted already in the hand\n",
    "    init_list = list(count_of_cards_hand_dict.values())\n",
    "    check2 = defaultdict(int)\n",
    "    for i in init_list:\n",
    "        check2[str(i)] += 1\n",
    "    if 2 in check2.values():\n",
    "        return True\n",
    "    else: return False"
   ]
  },
  {
   "cell_type": "code",
   "execution_count": 5,
   "metadata": {},
   "outputs": [],
   "source": [
    "def main(times):\n",
    "    results = defaultdict(int)\n",
    "    m = 0\n",
    "    while m < times:\n",
    "        u = hand(deck_cards,deck_suites)\n",
    "        count = build_hand_count_check(u)\n",
    "        if check_royalflush(u):\n",
    "            results['Royal Flush'] += 1\n",
    "        elif check_straight(u) and check_flush(u):\n",
    "            results['Straight Flush'] += 1\n",
    "        elif check_4ofakind(count):\n",
    "            results['4 of a Kind'] += 1\n",
    "        elif check_3ofakind(count) and check_2ofakind(count):\n",
    "            results['Full house'] += 1\n",
    "        elif check_flush(u):\n",
    "            results['Flush'] += 1\n",
    "        elif check_straight(u):\n",
    "            results['Straight'] += 1\n",
    "        elif check_3ofakind(count):\n",
    "            results['3 of a Kind'] += 1\n",
    "        elif check_2pair(count):\n",
    "            results['2 Pair'] += 1\n",
    "        elif check_2ofakind(count):\n",
    "            results['Pair'] += 1\n",
    "        else:\n",
    "            results['Nada'] += 1\n",
    "        m += 1\n",
    "    return results\n",
    "    "
   ]
  },
  {
   "cell_type": "code",
   "execution_count": 6,
   "metadata": {},
   "outputs": [],
   "source": [
    "x = main(1000000)"
   ]
  },
  {
   "cell_type": "code",
   "execution_count": 7,
   "metadata": {},
   "outputs": [
    {
     "name": "stdout",
     "output_type": "stream",
     "text": [
      "Hand                 Frequency\n",
      "Pair                   422048\n",
      "Nada                   501944\n",
      "2 Pair                  47652\n",
      "3 of a Kind             21201\n",
      "4 of a Kind               246\n",
      "Full house               1521\n",
      "Straight                 3456\n",
      "Flush                    1915\n",
      "Straight Flush             17\n"
     ]
    }
   ],
   "source": [
    "print(\"{:20} {:8}\".format('Hand','Frequency'))\n",
    "for k in x:\n",
    "    num = x[k]\n",
    "    print(\"{:20} {:8}\".format(k, num))"
   ]
  },
  {
   "cell_type": "code",
   "execution_count": null,
   "metadata": {},
   "outputs": [],
   "source": []
  }
 ],
 "metadata": {
  "kernelspec": {
   "display_name": "Python 3",
   "language": "python",
   "name": "python3"
  },
  "language_info": {
   "codemirror_mode": {
    "name": "ipython",
    "version": 3
   },
   "file_extension": ".py",
   "mimetype": "text/x-python",
   "name": "python",
   "nbconvert_exporter": "python",
   "pygments_lexer": "ipython3",
   "version": "3.8.5"
  }
 },
 "nbformat": 4,
 "nbformat_minor": 4
}
